{
  "nbformat": 4,
  "nbformat_minor": 0,
  "metadata": {
    "colab": {
      "provenance": []
    },
    "kernelspec": {
      "name": "python3",
      "display_name": "Python 3"
    },
    "language_info": {
      "name": "python"
    }
  },
  "cells": [
    {
      "cell_type": "code",
      "execution_count": null,
      "metadata": {
        "colab": {
          "base_uri": "https://localhost:8080/"
        },
        "id": "apuN1AXxInMe",
        "outputId": "de6da43c-a0d4-44a1-ad87-c01f5b6ac08d"
      },
      "outputs": [
        {
          "output_type": "stream",
          "name": "stdout",
          "text": [
            "Cloning into 'audio-compare'...\n",
            "remote: Enumerating objects: 9, done.\u001b[K\n",
            "remote: Counting objects: 100% (3/3), done.\u001b[K\n",
            "remote: Compressing objects: 100% (2/2), done.\u001b[K\n",
            "remote: Total 9 (delta 1), reused 1 (delta 1), pack-reused 6 (from 1)\u001b[K\n",
            "Receiving objects: 100% (9/9), done.\n",
            "Resolving deltas: 100% (1/1), done.\n"
          ]
        }
      ],
      "source": [
        "!git clone https://github.com/kdave/audio-compare"
      ]
    },
    {
      "cell_type": "code",
      "source": [
        "%cd /content/audio-compare"
      ],
      "metadata": {
        "colab": {
          "base_uri": "https://localhost:8080/"
        },
        "id": "purCdPQgJIww",
        "outputId": "a0e2de02-98cb-4e32-97ee-24ff3391793c"
      },
      "execution_count": null,
      "outputs": [
        {
          "output_type": "stream",
          "name": "stdout",
          "text": [
            "/content/audio-compare\n"
          ]
        }
      ]
    },
    {
      "cell_type": "code",
      "source": [
        "!pip install -r requirements.txt\n"
      ],
      "metadata": {
        "colab": {
          "base_uri": "https://localhost:8080/"
        },
        "id": "mHF2nouzI_DA",
        "outputId": "a06ae1e5-3182-4a38-e8f7-eff2a3a24642"
      },
      "execution_count": null,
      "outputs": [
        {
          "output_type": "stream",
          "name": "stdout",
          "text": [
            "Collecting correlation (from -r requirements.txt (line 1))\n",
            "  Downloading correlation-1.0.0-py3-none-any.whl.metadata (3.6 kB)\n",
            "Requirement already satisfied: numpy in /usr/local/lib/python3.10/dist-packages (from -r requirements.txt (line 2)) (1.26.4)\n",
            "Requirement already satisfied: scipy in /usr/local/lib/python3.10/dist-packages (from correlation->-r requirements.txt (line 1)) (1.13.1)\n",
            "Downloading correlation-1.0.0-py3-none-any.whl (8.2 kB)\n",
            "Installing collected packages: correlation\n",
            "Successfully installed correlation-1.0.0\n"
          ]
        }
      ]
    },
    {
      "cell_type": "code",
      "source": [
        "!tar -xvf /content/audio-compare/chromaprint-fpcalc-1.5.1-linux-x86_64.tar.gz -C /content/audio-compare"
      ],
      "metadata": {
        "colab": {
          "base_uri": "https://localhost:8080/"
        },
        "id": "jyuLpf3lMwh1",
        "outputId": "c9639fc1-d9e8-4271-c77e-8f2d177cfd21"
      },
      "execution_count": null,
      "outputs": [
        {
          "output_type": "stream",
          "name": "stdout",
          "text": [
            "chromaprint-fpcalc-1.5.1-linux-x86_64/\n",
            "chromaprint-fpcalc-1.5.1-linux-x86_64/fpcalc\n"
          ]
        }
      ]
    },
    {
      "cell_type": "code",
      "source": [
        "!mv /content/audio-compare/chromaprint-fpcalc-1.5.1-linux-x86_64/* /content/audio-compare/\n"
      ],
      "metadata": {
        "id": "4DNejQudPMNb"
      },
      "execution_count": null,
      "outputs": []
    },
    {
      "cell_type": "code",
      "source": [
        "import os\n",
        "os.environ['PATH'] += ':/content/audio-compare'\n"
      ],
      "metadata": {
        "id": "H6SO_9wBUF4_"
      },
      "execution_count": null,
      "outputs": []
    },
    {
      "cell_type": "code",
      "source": [
        "!python compare.py -i /content/audio-compare/pavel_original.wav -o /content/audio-compare/pavelAI.wav"
      ],
      "metadata": {
        "colab": {
          "base_uri": "https://localhost:8080/"
        },
        "id": "5JzeBT3iJYA5",
        "outputId": "96a13193-c582-43cd-997d-6c95a10f8117"
      },
      "execution_count": null,
      "outputs": [
        {
          "output_type": "stream",
          "name": "stdout",
          "text": [
            "Calculating fingerprint by fpcalc for /content/audio-compare/pavel_original.wav\n",
            "Calculating fingerprint by fpcalc for /content/audio-compare/pavelAI.wav\n",
            "File A: /content/audio-compare/pavel_original.wav\n",
            "File B: /content/audio-compare/pavelAI.wav\n",
            "Match with correlation of 55.53% at offset 26\n"
          ]
        }
      ]
    },
    {
      "cell_type": "markdown",
      "source": [],
      "metadata": {
        "id": "FptYRSy3WHJX"
      }
    }
  ]
}